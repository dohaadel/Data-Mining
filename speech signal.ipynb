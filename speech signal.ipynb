{
  "nbformat": 4,
  "nbformat_minor": 0,
  "metadata": {
    "colab": {
      "name": "Untitled3.ipynb",
      "provenance": [],
      "collapsed_sections": [],
      "include_colab_link": true
    },
    "kernelspec": {
      "name": "python3",
      "display_name": "Python 3"
    },
    "language_info": {
      "name": "python"
    }
  },
  "cells": [
    {
      "cell_type": "markdown",
      "metadata": {
        "id": "view-in-github",
        "colab_type": "text"
      },
      "source": [
        "<a href=\"https://colab.research.google.com/github/dohaadel/Data-Mining/blob/main/speech%20signal.ipynb\" target=\"_parent\"><img src=\"https://colab.research.google.com/assets/colab-badge.svg\" alt=\"Open In Colab\"/></a>"
      ]
    },
    {
      "cell_type": "code",
      "execution_count": null,
      "metadata": {
        "id": "b-aK3J5ieWm7"
      },
      "outputs": [],
      "source": [
        "from scipy.io import wavfile\n",
        "from IPython.display import Audio\n",
        "from matplotlib import pyplot as plt\n",
        "import numpy as np\n"
      ]
    },
    {
      "cell_type": "code",
      "source": [
        "from google.colab import drive\n",
        "drive.mount('/content/drive')"
      ],
      "metadata": {
        "colab": {
          "base_uri": "https://localhost:8080/"
        },
        "id": "MN-fL436emgI",
        "outputId": "be4927c0-15ed-4576-86b3-337f40efa1cd"
      },
      "execution_count": null,
      "outputs": [
        {
          "output_type": "stream",
          "name": "stdout",
          "text": [
            "Drive already mounted at /content/drive; to attempt to forcibly remount, call drive.mount(\"/content/drive\", force_remount=True).\n"
          ]
        }
      ]
    },
    {
      "cell_type": "code",
      "source": [
        "f_name =\"/content/drive/My Drive/code/mixkit-laughing-teenager-428.wav\"\n",
        "fs,wav = wavfile.read(f_name )\n",
        "print(fs)\n",
        "wav2=wav.flatten()\n",
        "plt.plot(wav2)"
      ],
      "metadata": {
        "colab": {
          "base_uri": "https://localhost:8080/",
          "height": 300
        },
        "id": "8qUAcCD4fAQ8",
        "outputId": "0fce0dde-8efe-4691-c473-d0bc54ca3c71"
      },
      "execution_count": null,
      "outputs": [
        {
          "output_type": "stream",
          "name": "stdout",
          "text": [
            "44100\n"
          ]
        },
        {
          "output_type": "execute_result",
          "data": {
            "text/plain": [
              "[<matplotlib.lines.Line2D at 0x7f757fa4e190>]"
            ]
          },
          "metadata": {},
          "execution_count": 37
        },
        {
          "output_type": "display_data",
          "data": {
            "text/plain": [
              "<Figure size 432x288 with 1 Axes>"
            ],
            "image/png": "[encoded data removed]"
          },
          "metadata": {
            "needs_background": "light"
          }
        }
      ]
    },
    {
      "cell_type": "code",
      "source": [
        "Audio(f_name,autoplay=True)"
      ],
      "metadata": {
        "colab": {
          "base_uri": "https://localhost:8080/",
          "height": 165
        },
        "id": "XPd6M-l8feZd",
        "outputId": "7146d19d-141c-4163-befe-38672900c4e5"
      },
      "execution_count": null,
      "outputs": [
        {
          "output_type": "error",
          "ename": "NameError",
          "evalue": "ignored",
          "traceback": [
            "\u001b[0;31m---------------------------------------------------------------------------\u001b[0m",
            "\u001b[0;31mNameError\u001b[0m                                 Traceback (most recent call last)",
            "\u001b[0;32m<ipython-input-1-9c08f6fe66fd>\u001b[0m in \u001b[0;36m<module>\u001b[0;34m()\u001b[0m\n\u001b[0;32m----> 1\u001b[0;31m \u001b[0mAudio\u001b[0m\u001b[0;34m(\u001b[0m\u001b[0mf_name\u001b[0m\u001b[0;34m,\u001b[0m\u001b[0mautoplay\u001b[0m\u001b[0;34m=\u001b[0m\u001b[0;32mTrue\u001b[0m\u001b[0;34m)\u001b[0m\u001b[0;34m\u001b[0m\u001b[0;34m\u001b[0m\u001b[0m\n\u001b[0m",
            "\u001b[0;31mNameError\u001b[0m: name 'Audio' is not defined"
          ]
        }
      ]
    },
    {
      "cell_type": "code",
      "source": [
        "def framing(sig, fs=fs, win_len=0.025, win_hop=0.01):\n",
        "     \n",
        "     # compute frame length and frame step (convert from seconds to samples)\n",
        "     frame_length = win_len * fs\n",
        "     frame_step = win_hop * fs\n",
        "     signal_length = len(sig)\n",
        "     frames_overlap = frame_length - frame_step\n",
        "\n",
        "     # Make sure that we have at least 1 frame+\n",
        "     num_frames = np.abs(signal_length - frames_overlap) // np.abs(frame_length - frames_overlap)\n",
        "     rest_samples = np.abs(signal_length - frames_overlap) % np.abs(frame_length - frames_overlap)\n",
        "\n",
        "     # Pad Signal to make sure that all frames have equal number of samples\n",
        "     # without truncating any samples from the original signal\n",
        "     if rest_samples != 0:\n",
        "         pad_signal_length = int(frame_step - rest_samples)\n",
        "         z = np.zeros((pad_signal_length))\n",
        "         pad_signal = np.append(sig, z)\n",
        "         num_frames += 1\n",
        "     else:\n",
        "         pad_signal = sig\n",
        "\n",
        "     # make sure to use integers as indices\n",
        "     frame_length = int(frame_length)\n",
        "     frame_step = int(frame_step)\n",
        "     num_frames = int(num_frames)\n",
        "\n",
        "     # compute indices\n",
        "     idx1 = np.tile(np.arange(0, frame_length), (num_frames, 1))\n",
        "     idx2 = np.tile(np.arange(0, num_frames * frame_step, frame_step),\n",
        "                    (frame_length, 1)).T\n",
        "     indices = idx1 + idx2\n",
        "     frames = pad_signal[indices.astype(np.int32, copy=False)]\n",
        "     return frames"
      ],
      "metadata": {
        "id": "nCqpBUAvjI6W"
      },
      "execution_count": null,
      "outputs": []
    },
    {
      "cell_type": "code",
      "source": [
        "frame = framing(wav, fs, 0.025,0.01)\n",
        "NewFrame= frame.flatten()\n",
        "plt.plot(NewFrame)"
      ],
      "metadata": {
        "colab": {
          "base_uri": "https://localhost:8080/",
          "height": 282
        },
        "id": "ogVe5tVFjlxq",
        "outputId": "006ca4b2-fd25-42fc-e18e-db838a0b6c8e"
      },
      "execution_count": null,
      "outputs": [
        {
          "output_type": "execute_result",
          "data": {
            "text/plain": [
              "[<matplotlib.lines.Line2D at 0x7f757fad3650>]"
            ]
          },
          "metadata": {},
          "execution_count": 36
        },
        {
          "output_type": "display_data",
          "data": {
            "text/plain": [
              "<Figure size 432x288 with 1 Axes>"
            ],
            "image/png": "[encoded data removed]"
          },
          "metadata": {
            "needs_background": "light"
          }
        }
      ]
    }
  ]
}