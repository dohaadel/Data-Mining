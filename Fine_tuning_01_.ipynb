{
  "nbformat": 4,
  "nbformat_minor": 0,
  "metadata": {
    "colab": {
      "name": "Fine tuning_01_.ipynb",
      "provenance": [],
      "collapsed_sections": [],
      "include_colab_link": true
    },
    "kernelspec": {
      "name": "python3",
      "display_name": "Python 3"
    },
    "language_info": {
      "name": "python"
    }
  },
  "cells": [
    {
      "cell_type": "markdown",
      "metadata": {
        "id": "view-in-github",
        "colab_type": "text"
      },
      "source": [
        "<a href=\"https://colab.research.google.com/github/dohaadel/Data-Mining/blob/main/Fine_tuning_01_.ipynb\" target=\"_parent\"><img src=\"https://colab.research.google.com/assets/colab-badge.svg\" alt=\"Open In Colab\"/></a>"
      ]
    },
    {
      "cell_type": "code",
      "execution_count": null,
      "metadata": {
        "id": "XrZKGqicSlJ5"
      },
      "outputs": [],
      "source": [
        "import numpy as np\n",
        "import tensorflow as tf\n",
        "from tensorflow import keras\n",
        "from tensorflow.keras.models import Sequential\n",
        "from tensorflow.keras.layers import Activation, Dense, Flatten, BatchNormalization, Conv2D, MaxPool2D, Dropout\n",
        "from tensorflow.keras.optimizers import Adam\n",
        "from tensorflow.keras.metrics import categorical_crossentropy\n",
        "from tensorflow.keras.preprocessing.image import ImageDataGenerator\n",
        "from sklearn.metrics import confusion_matrix\n",
        "import matplotlib.pyplot as plt\n",
        "%matplotlib inline"
      ]
    },
    {
      "cell_type": "code",
      "source": [
        "from tensorflow.keras.models import Model"
      ],
      "metadata": {
        "id": "bUKun6tQoc7W"
      },
      "execution_count": null,
      "outputs": []
    },
    {
      "cell_type": "markdown",
      "source": [
        "# Get class person and stop sign from coco dataset # New Section"
      ],
      "metadata": {
        "id": "9envKyhYflaT"
      }
    },
    {
      "cell_type": "code",
      "source": [
        "!pip install CocoDataset==0.1.2\n",
        "!wget http://images.cocodataset.org/annotations/annotations_trainval2014.zip\n",
        "!unzip /content/annotations_trainval2014.zip"
      ],
      "metadata": {
        "id": "R-wtcPc6Svqr"
      },
      "execution_count": null,
      "outputs": []
    },
    {
      "cell_type": "code",
      "source": [
        "from coco_dataset import coco_dataset_download as cocod\n",
        "class_name='stop sign'   \n",
        "images_count=1500    \n",
        "annotations_path='/content/annotations/instances_train2014.json' \n",
        "cocod.coco_dataset_download(class_name,images_count,annotations_path)"
      ],
      "metadata": {
        "id": "SxogzlgyfPyb"
      },
      "execution_count": null,
      "outputs": []
    },
    {
      "cell_type": "code",
      "source": [
        "from coco_dataset import coco_dataset_download as cocod\n",
        "class_name='person'  \n",
        "images_count=1500  \n",
        "annotations_path='/content/annotations/instances_train2014.json'  \n",
        "cocod.coco_dataset_download(class_name,images_count,annotations_path)"
      ],
      "metadata": {
        "id": "7wmx542vcGmk"
      },
      "execution_count": null,
      "outputs": []
    },
    {
      "cell_type": "markdown",
      "source": [
        "# Download the data to local system # New Section"
      ],
      "metadata": {
        "id": "bwLmoH9FgBmF"
      }
    },
    {
      "cell_type": "code",
      "source": [
        "!zip -r /content/stop sign.zip /content/stop sign\n",
        "!zip -r /content/person.zip /content/person"
      ],
      "metadata": {
        "id": "aPVAu0eKfXss"
      },
      "execution_count": null,
      "outputs": []
    },
    {
      "cell_type": "code",
      "source": [
        "from google.colab import files\n",
        "files.download('/content/stop sign.zip')\n",
        "files.download('/content/person.zip')"
      ],
      "metadata": {
        "id": "FL6HQCUifdky"
      },
      "execution_count": null,
      "outputs": []
    },
    {
      "cell_type": "markdown",
      "source": [
        "# split the data implement the following code in **pycharm** # New Section\n",
        "\n"
      ],
      "metadata": {
        "id": "Mwkw_x4Ngl4q"
      }
    },
    {
      "cell_type": "code",
      "source": [
        "!pip install split-folders"
      ],
      "metadata": {
        "id": "o82heNzEc2fv"
      },
      "execution_count": null,
      "outputs": []
    },
    {
      "cell_type": "code",
      "source": [
        "import splitfolders\n",
        "input_folder = r'C:\\Users\\dohaa\\Downloads\\split data\\celImages'\n",
        "output_folder = r'C:\\Users\\dohaa\\Downloads\\split data\\celImages2'\n",
        "splitfolders.ratio(input_folder, output_folder, seed=42, ratio=(.7, 0.2,0.1), group_prefix=None)"
      ],
      "metadata": {
        "id": "7x4dOB7bgwsC"
      },
      "execution_count": null,
      "outputs": []
    },
    {
      "cell_type": "markdown",
      "source": [
        "# New Section\n",
        "![Screenshot 2022-04-21 223108.png](data:image/png;base64,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)\n",
        "\n"
      ],
      "metadata": {
        "id": "lPnJc3RW30C7"
      }
    },
    {
      "cell_type": "markdown",
      "source": [
        "# connect to Drive # New Section"
      ],
      "metadata": {
        "id": "r1aNz5yxho_J"
      }
    },
    {
      "cell_type": "code",
      "source": [
        "from google.colab import drive\n",
        "drive.mount('/content/gdrive')"
      ],
      "metadata": {
        "colab": {
          "base_uri": "https://localhost:8080/"
        },
        "id": "wcY2FjSTiEuy",
        "outputId": "1680e66d-8b33-40ba-f02e-c2670ce9be19"
      },
      "execution_count": null,
      "outputs": [
        {
          "output_type": "stream",
          "name": "stdout",
          "text": [
            "Mounted at /content/gdrive\n"
          ]
        }
      ]
    },
    {
      "cell_type": "code",
      "source": [
        "train_path=\"/content/gdrive/MyDrive/celImages2/train\"\n",
        "valid_path=\"/content/gdrive/MyDrive/celImages2/val\"\n",
        "test_path=\"/content/gdrive/MyDrive/celImages2/test\""
      ],
      "metadata": {
        "id": "APLks_9NiuLe"
      },
      "execution_count": null,
      "outputs": []
    },
    {
      "cell_type": "code",
      "source": [
        "from keras.preprocessing.image import ImageDataGenerator"
      ],
      "metadata": {
        "id": "xftfynOikIpt"
      },
      "execution_count": null,
      "outputs": []
    },
    {
      "cell_type": "code",
      "source": [
        "train_batches=ImageDataGenerator(preprocessing_function=tf.keras.applications.mobilenet.preprocess_input).flow_from_directory(\n",
        "    directory=train_path, target_size=(224, 224) , batch_size=10\n",
        ")\n",
        "valid_batches=ImageDataGenerator(preprocessing_function=tf.keras.applications.mobilenet.preprocess_input).flow_from_directory(\n",
        "    directory=valid_path, target_size=(224, 224) , batch_size=10\n",
        ")\n",
        "test_batches=ImageDataGenerator(preprocessing_function=tf.keras.applications.mobilenet.preprocess_input).flow_from_directory(\n",
        "    directory=test_path, target_size=(224, 224) , batch_size=10 , shuffle=False\n",
        ")"
      ],
      "metadata": {
        "colab": {
          "base_uri": "https://localhost:8080/"
        },
        "id": "6dGzysIN80VO",
        "outputId": "ed8bc10a-6053-46fe-e3a3-0e559d8e3bfb"
      },
      "execution_count": null,
      "outputs": [
        {
          "output_type": "stream",
          "name": "stdout",
          "text": [
            "Found 1684 images belonging to 2 classes.\n",
            "Found 480 images belonging to 2 classes.\n",
            "Found 244 images belonging to 2 classes.\n"
          ]
        }
      ]
    },
    {
      "cell_type": "markdown",
      "source": [
        "# load MobileNet model # New Section"
      ],
      "metadata": {
        "id": "QWv4qbErtBwh"
      }
    },
    {
      "cell_type": "code",
      "source": [
        "mobile = tf.keras.applications.mobilenet.MobileNet()"
      ],
      "metadata": {
        "id": "wWbRLySxmhyf",
        "colab": {
          "base_uri": "https://localhost:8080/"
        },
        "outputId": "71f3e95e-ca96-4e8b-ceab-2a9235250663"
      },
      "execution_count": null,
      "outputs": [
        {
          "output_type": "stream",
          "name": "stdout",
          "text": [
            "Downloading data from https://storage.googleapis.com/tensorflow/keras-applications/mobilenet/mobilenet_1_0_224_tf.h5\n",
            "17227776/17225924 [==============================] - 0s 0us/step\n",
            "17235968/17225924 [==============================] - 0s 0us/step\n"
          ]
        }
      ]
    },
    {
      "cell_type": "code",
      "source": [
        "mobile.summary()"
      ],
      "metadata": {
        "colab": {
          "base_uri": "https://localhost:8080/"
        },
        "id": "LZgxpoZMm_Nu",
        "outputId": "c09fb604-b77f-43c8-e796-bca57831c4b7"
      },
      "execution_count": null,
      "outputs": [
        {
          "output_type": "stream",
          "name": "stdout",
          "text": [
            "Model: \"mobilenet_1.00_224\"\n",
            "_________________________________________________________________\n",
            " Layer (type)                Output Shape              Param #   \n",
            "=================================================================\n",
            " input_1 (InputLayer)        [(None, 224, 224, 3)]     0         \n",
            "                                                                 \n",
            " conv1 (Conv2D)              (None, 112, 112, 32)      864       \n",
            "                                                                 \n",
            " conv1_bn (BatchNormalizatio  (None, 112, 112, 32)     128       \n",
            " n)                                                              \n",
            "                                                                 \n",
            " conv1_relu (ReLU)           (None, 112, 112, 32)      0         \n",
            "                                                                 \n",
            " conv_dw_1 (DepthwiseConv2D)  (None, 112, 112, 32)     288       \n",
            "                                                                 \n",
            " conv_dw_1_bn (BatchNormaliz  (None, 112, 112, 32)     128       \n",
            " ation)                                                          \n",
            "                                                                 \n",
            " conv_dw_1_relu (ReLU)       (None, 112, 112, 32)      0         \n",
            "                                                                 \n",
            " conv_pw_1 (Conv2D)          (None, 112, 112, 64)      2048      \n",
            "                                                                 \n",
            " conv_pw_1_bn (BatchNormaliz  (None, 112, 112, 64)     256       \n",
            " ation)                                                          \n",
            "                                                                 \n",
            " conv_pw_1_relu (ReLU)       (None, 112, 112, 64)      0         \n",
            "                                                                 \n",
            " conv_pad_2 (ZeroPadding2D)  (None, 113, 113, 64)      0         \n",
            "                                                                 \n",
            " conv_dw_2 (DepthwiseConv2D)  (None, 56, 56, 64)       576       \n",
            "                                                                 \n",
            " conv_dw_2_bn (BatchNormaliz  (None, 56, 56, 64)       256       \n",
            " ation)                                                          \n",
            "                                                                 \n",
            " conv_dw_2_relu (ReLU)       (None, 56, 56, 64)        0         \n",
            "                                                                 \n",
            " conv_pw_2 (Conv2D)          (None, 56, 56, 128)       8192      \n",
            "                                                                 \n",
            " conv_pw_2_bn (BatchNormaliz  (None, 56, 56, 128)      512       \n",
            " ation)                                                          \n",
            "                                                                 \n",
            " conv_pw_2_relu (ReLU)       (None, 56, 56, 128)       0         \n",
            "                                                                 \n",
            " conv_dw_3 (DepthwiseConv2D)  (None, 56, 56, 128)      1152      \n",
            "                                                                 \n",
            " conv_dw_3_bn (BatchNormaliz  (None, 56, 56, 128)      512       \n",
            " ation)                                                          \n",
            "                                                                 \n",
            " conv_dw_3_relu (ReLU)       (None, 56, 56, 128)       0         \n",
            "                                                                 \n",
            " conv_pw_3 (Conv2D)          (None, 56, 56, 128)       16384     \n",
            "                                                                 \n",
            " conv_pw_3_bn (BatchNormaliz  (None, 56, 56, 128)      512       \n",
            " ation)                                                          \n",
            "                                                                 \n",
            " conv_pw_3_relu (ReLU)       (None, 56, 56, 128)       0         \n",
            "                                                                 \n",
            " conv_pad_4 (ZeroPadding2D)  (None, 57, 57, 128)       0         \n",
            "                                                                 \n",
            " conv_dw_4 (DepthwiseConv2D)  (None, 28, 28, 128)      1152      \n",
            "                                                                 \n",
            " conv_dw_4_bn (BatchNormaliz  (None, 28, 28, 128)      512       \n",
            " ation)                                                          \n",
            "                                                                 \n",
            " conv_dw_4_relu (ReLU)       (None, 28, 28, 128)       0         \n",
            "                                                                 \n",
            " conv_pw_4 (Conv2D)          (None, 28, 28, 256)       32768     \n",
            "                                                                 \n",
            " conv_pw_4_bn (BatchNormaliz  (None, 28, 28, 256)      1024      \n",
            " ation)                                                          \n",
            "                                                                 \n",
            " conv_pw_4_relu (ReLU)       (None, 28, 28, 256)       0         \n",
            "                                                                 \n",
            " conv_dw_5 (DepthwiseConv2D)  (None, 28, 28, 256)      2304      \n",
            "                                                                 \n",
            " conv_dw_5_bn (BatchNormaliz  (None, 28, 28, 256)      1024      \n",
            " ation)                                                          \n",
            "                                                                 \n",
            " conv_dw_5_relu (ReLU)       (None, 28, 28, 256)       0         \n",
            "                                                                 \n",
            " conv_pw_5 (Conv2D)          (None, 28, 28, 256)       65536     \n",
            "                                                                 \n",
            " conv_pw_5_bn (BatchNormaliz  (None, 28, 28, 256)      1024      \n",
            " ation)                                                          \n",
            "                                                                 \n",
            " conv_pw_5_relu (ReLU)       (None, 28, 28, 256)       0         \n",
            "                                                                 \n",
            " conv_pad_6 (ZeroPadding2D)  (None, 29, 29, 256)       0         \n",
            "                                                                 \n",
            " conv_dw_6 (DepthwiseConv2D)  (None, 14, 14, 256)      2304      \n",
            "                                                                 \n",
            " conv_dw_6_bn (BatchNormaliz  (None, 14, 14, 256)      1024      \n",
            " ation)                                                          \n",
            "                                                                 \n",
            " conv_dw_6_relu (ReLU)       (None, 14, 14, 256)       0         \n",
            "                                                                 \n",
            " conv_pw_6 (Conv2D)          (None, 14, 14, 512)       131072    \n",
            "                                                                 \n",
            " conv_pw_6_bn (BatchNormaliz  (None, 14, 14, 512)      2048      \n",
            " ation)                                                          \n",
            "                                                                 \n",
            " conv_pw_6_relu (ReLU)       (None, 14, 14, 512)       0         \n",
            "                                                                 \n",
            " conv_dw_7 (DepthwiseConv2D)  (None, 14, 14, 512)      4608      \n",
            "                                                                 \n",
            " conv_dw_7_bn (BatchNormaliz  (None, 14, 14, 512)      2048      \n",
            " ation)                                                          \n",
            "                                                                 \n",
            " conv_dw_7_relu (ReLU)       (None, 14, 14, 512)       0         \n",
            "                                                                 \n",
            " conv_pw_7 (Conv2D)          (None, 14, 14, 512)       262144    \n",
            "                                                                 \n",
            " conv_pw_7_bn (BatchNormaliz  (None, 14, 14, 512)      2048      \n",
            " ation)                                                          \n",
            "                                                                 \n",
            " conv_pw_7_relu (ReLU)       (None, 14, 14, 512)       0         \n",
            "                                                                 \n",
            " conv_dw_8 (DepthwiseConv2D)  (None, 14, 14, 512)      4608      \n",
            "                                                                 \n",
            " conv_dw_8_bn (BatchNormaliz  (None, 14, 14, 512)      2048      \n",
            " ation)                                                          \n",
            "                                                                 \n",
            " conv_dw_8_relu (ReLU)       (None, 14, 14, 512)       0         \n",
            "                                                                 \n",
            " conv_pw_8 (Conv2D)          (None, 14, 14, 512)       262144    \n",
            "                                                                 \n",
            " conv_pw_8_bn (BatchNormaliz  (None, 14, 14, 512)      2048      \n",
            " ation)                                                          \n",
            "                                                                 \n",
            " conv_pw_8_relu (ReLU)       (None, 14, 14, 512)       0         \n",
            "                                                                 \n",
            " conv_dw_9 (DepthwiseConv2D)  (None, 14, 14, 512)      4608      \n",
            "                                                                 \n",
            " conv_dw_9_bn (BatchNormaliz  (None, 14, 14, 512)      2048      \n",
            " ation)                                                          \n",
            "                                                                 \n",
            " conv_dw_9_relu (ReLU)       (None, 14, 14, 512)       0         \n",
            "                                                                 \n",
            " conv_pw_9 (Conv2D)          (None, 14, 14, 512)       262144    \n",
            "                                                                 \n",
            " conv_pw_9_bn (BatchNormaliz  (None, 14, 14, 512)      2048      \n",
            " ation)                                                          \n",
            "                                                                 \n",
            " conv_pw_9_relu (ReLU)       (None, 14, 14, 512)       0         \n",
            "                                                                 \n",
            " conv_dw_10 (DepthwiseConv2D  (None, 14, 14, 512)      4608      \n",
            " )                                                               \n",
            "                                                                 \n",
            " conv_dw_10_bn (BatchNormali  (None, 14, 14, 512)      2048      \n",
            " zation)                                                         \n",
            "                                                                 \n",
            " conv_dw_10_relu (ReLU)      (None, 14, 14, 512)       0         \n",
            "                                                                 \n",
            " conv_pw_10 (Conv2D)         (None, 14, 14, 512)       262144    \n",
            "                                                                 \n",
            " conv_pw_10_bn (BatchNormali  (None, 14, 14, 512)      2048      \n",
            " zation)                                                         \n",
            "                                                                 \n",
            " conv_pw_10_relu (ReLU)      (None, 14, 14, 512)       0         \n",
            "                                                                 \n",
            " conv_dw_11 (DepthwiseConv2D  (None, 14, 14, 512)      4608      \n",
            " )                                                               \n",
            "                                                                 \n",
            " conv_dw_11_bn (BatchNormali  (None, 14, 14, 512)      2048      \n",
            " zation)                                                         \n",
            "                                                                 \n",
            " conv_dw_11_relu (ReLU)      (None, 14, 14, 512)       0         \n",
            "                                                                 \n",
            " conv_pw_11 (Conv2D)         (None, 14, 14, 512)       262144    \n",
            "                                                                 \n",
            " conv_pw_11_bn (BatchNormali  (None, 14, 14, 512)      2048      \n",
            " zation)                                                         \n",
            "                                                                 \n",
            " conv_pw_11_relu (ReLU)      (None, 14, 14, 512)       0         \n",
            "                                                                 \n",
            " conv_pad_12 (ZeroPadding2D)  (None, 15, 15, 512)      0         \n",
            "                                                                 \n",
            " conv_dw_12 (DepthwiseConv2D  (None, 7, 7, 512)        4608      \n",
            " )                                                               \n",
            "                                                                 \n",
            " conv_dw_12_bn (BatchNormali  (None, 7, 7, 512)        2048      \n",
            " zation)                                                         \n",
            "                                                                 \n",
            " conv_dw_12_relu (ReLU)      (None, 7, 7, 512)         0         \n",
            "                                                                 \n",
            " conv_pw_12 (Conv2D)         (None, 7, 7, 1024)        524288    \n",
            "                                                                 \n",
            " conv_pw_12_bn (BatchNormali  (None, 7, 7, 1024)       4096      \n",
            " zation)                                                         \n",
            "                                                                 \n",
            " conv_pw_12_relu (ReLU)      (None, 7, 7, 1024)        0         \n",
            "                                                                 \n",
            " conv_dw_13 (DepthwiseConv2D  (None, 7, 7, 1024)       9216      \n",
            " )                                                               \n",
            "                                                                 \n",
            " conv_dw_13_bn (BatchNormali  (None, 7, 7, 1024)       4096      \n",
            " zation)                                                         \n",
            "                                                                 \n",
            " conv_dw_13_relu (ReLU)      (None, 7, 7, 1024)        0         \n",
            "                                                                 \n",
            " conv_pw_13 (Conv2D)         (None, 7, 7, 1024)        1048576   \n",
            "                                                                 \n",
            " conv_pw_13_bn (BatchNormali  (None, 7, 7, 1024)       4096      \n",
            " zation)                                                         \n",
            "                                                                 \n",
            " conv_pw_13_relu (ReLU)      (None, 7, 7, 1024)        0         \n",
            "                                                                 \n",
            " global_average_pooling2d (G  (None, 1, 1, 1024)       0         \n",
            " lobalAveragePooling2D)                                          \n",
            "                                                                 \n",
            " dropout (Dropout)           (None, 1, 1, 1024)        0         \n",
            "                                                                 \n",
            " conv_preds (Conv2D)         (None, 1, 1, 1000)        1025000   \n",
            "                                                                 \n",
            " reshape_2 (Reshape)         (None, 1000)              0         \n",
            "                                                                 \n",
            " predictions (Activation)    (None, 1000)              0         \n",
            "                                                                 \n",
            "=================================================================\n",
            "Total params: 4,253,864\n",
            "Trainable params: 4,231,976\n",
            "Non-trainable params: 21,888\n",
            "_________________________________________________________________\n"
          ]
        }
      ]
    },
    {
      "cell_type": "code",
      "source": [
        "model = keras.Sequential()\n",
        "for layer in mobile.layers[:-1]:\n",
        "    model.add(layer)"
      ],
      "metadata": {
        "id": "-cn5Hy1onKz7"
      },
      "execution_count": null,
      "outputs": []
    },
    {
      "cell_type": "code",
      "source": [
        "for layer in model.layers:\n",
        "    layer.trainable = False"
      ],
      "metadata": {
        "id": "bsT0wNNcn02k"
      },
      "execution_count": null,
      "outputs": []
    },
    {
      "cell_type": "code",
      "source": [
        "model.add(keras.layers.Dense(units=2, activation='softmax'))"
      ],
      "metadata": {
        "id": "Q82Bc2OPonmT"
      },
      "execution_count": null,
      "outputs": []
    },
    {
      "cell_type": "code",
      "source": [
        "model.summary()"
      ],
      "metadata": {
        "colab": {
          "base_uri": "https://localhost:8080/"
        },
        "id": "sFdi6YFfo6Dg",
        "outputId": "04ed6fd1-48a2-49d0-90a3-f094b40c59ed"
      },
      "execution_count": null,
      "outputs": [
        {
          "output_type": "stream",
          "name": "stdout",
          "text": [
            "Model: \"sequential\"\n",
            "_________________________________________________________________\n",
            " Layer (type)                Output Shape              Param #   \n",
            "=================================================================\n",
            " conv1 (Conv2D)              (None, 112, 112, 32)      864       \n",
            "                                                                 \n",
            " conv1_bn (BatchNormalizatio  (None, 112, 112, 32)     128       \n",
            " n)                                                              \n",
            "                                                                 \n",
            " conv1_relu (ReLU)           (None, 112, 112, 32)      0         \n",
            "                                                                 \n",
            " conv_dw_1 (DepthwiseConv2D)  (None, 112, 112, 32)     288       \n",
            "                                                                 \n",
            " conv_dw_1_bn (BatchNormaliz  (None, 112, 112, 32)     128       \n",
            " ation)                                                          \n",
            "                                                                 \n",
            " conv_dw_1_relu (ReLU)       (None, 112, 112, 32)      0         \n",
            "                                                                 \n",
            " conv_pw_1 (Conv2D)          (None, 112, 112, 64)      2048      \n",
            "                                                                 \n",
            " conv_pw_1_bn (BatchNormaliz  (None, 112, 112, 64)     256       \n",
            " ation)                                                          \n",
            "                                                                 \n",
            " conv_pw_1_relu (ReLU)       (None, 112, 112, 64)      0         \n",
            "                                                                 \n",
            " conv_pad_2 (ZeroPadding2D)  (None, 113, 113, 64)      0         \n",
            "                                                                 \n",
            " conv_dw_2 (DepthwiseConv2D)  (None, 56, 56, 64)       576       \n",
            "                                                                 \n",
            " conv_dw_2_bn (BatchNormaliz  (None, 56, 56, 64)       256       \n",
            " ation)                                                          \n",
            "                                                                 \n",
            " conv_dw_2_relu (ReLU)       (None, 56, 56, 64)        0         \n",
            "                                                                 \n",
            " conv_pw_2 (Conv2D)          (None, 56, 56, 128)       8192      \n",
            "                                                                 \n",
            " conv_pw_2_bn (BatchNormaliz  (None, 56, 56, 128)      512       \n",
            " ation)                                                          \n",
            "                                                                 \n",
            " conv_pw_2_relu (ReLU)       (None, 56, 56, 128)       0         \n",
            "                                                                 \n",
            " conv_dw_3 (DepthwiseConv2D)  (None, 56, 56, 128)      1152      \n",
            "                                                                 \n",
            " conv_dw_3_bn (BatchNormaliz  (None, 56, 56, 128)      512       \n",
            " ation)                                                          \n",
            "                                                                 \n",
            " conv_dw_3_relu (ReLU)       (None, 56, 56, 128)       0         \n",
            "                                                                 \n",
            " conv_pw_3 (Conv2D)          (None, 56, 56, 128)       16384     \n",
            "                                                                 \n",
            " conv_pw_3_bn (BatchNormaliz  (None, 56, 56, 128)      512       \n",
            " ation)                                                          \n",
            "                                                                 \n",
            " conv_pw_3_relu (ReLU)       (None, 56, 56, 128)       0         \n",
            "                                                                 \n",
            " conv_pad_4 (ZeroPadding2D)  (None, 57, 57, 128)       0         \n",
            "                                                                 \n",
            " conv_dw_4 (DepthwiseConv2D)  (None, 28, 28, 128)      1152      \n",
            "                                                                 \n",
            " conv_dw_4_bn (BatchNormaliz  (None, 28, 28, 128)      512       \n",
            " ation)                                                          \n",
            "                                                                 \n",
            " conv_dw_4_relu (ReLU)       (None, 28, 28, 128)       0         \n",
            "                                                                 \n",
            " conv_pw_4 (Conv2D)          (None, 28, 28, 256)       32768     \n",
            "                                                                 \n",
            " conv_pw_4_bn (BatchNormaliz  (None, 28, 28, 256)      1024      \n",
            " ation)                                                          \n",
            "                                                                 \n",
            " conv_pw_4_relu (ReLU)       (None, 28, 28, 256)       0         \n",
            "                                                                 \n",
            " conv_dw_5 (DepthwiseConv2D)  (None, 28, 28, 256)      2304      \n",
            "                                                                 \n",
            " conv_dw_5_bn (BatchNormaliz  (None, 28, 28, 256)      1024      \n",
            " ation)                                                          \n",
            "                                                                 \n",
            " conv_dw_5_relu (ReLU)       (None, 28, 28, 256)       0         \n",
            "                                                                 \n",
            " conv_pw_5 (Conv2D)          (None, 28, 28, 256)       65536     \n",
            "                                                                 \n",
            " conv_pw_5_bn (BatchNormaliz  (None, 28, 28, 256)      1024      \n",
            " ation)                                                          \n",
            "                                                                 \n",
            " conv_pw_5_relu (ReLU)       (None, 28, 28, 256)       0         \n",
            "                                                                 \n",
            " conv_pad_6 (ZeroPadding2D)  (None, 29, 29, 256)       0         \n",
            "                                                                 \n",
            " conv_dw_6 (DepthwiseConv2D)  (None, 14, 14, 256)      2304      \n",
            "                                                                 \n",
            " conv_dw_6_bn (BatchNormaliz  (None, 14, 14, 256)      1024      \n",
            " ation)                                                          \n",
            "                                                                 \n",
            " conv_dw_6_relu (ReLU)       (None, 14, 14, 256)       0         \n",
            "                                                                 \n",
            " conv_pw_6 (Conv2D)          (None, 14, 14, 512)       131072    \n",
            "                                                                 \n",
            " conv_pw_6_bn (BatchNormaliz  (None, 14, 14, 512)      2048      \n",
            " ation)                                                          \n",
            "                                                                 \n",
            " conv_pw_6_relu (ReLU)       (None, 14, 14, 512)       0         \n",
            "                                                                 \n",
            " conv_dw_7 (DepthwiseConv2D)  (None, 14, 14, 512)      4608      \n",
            "                                                                 \n",
            " conv_dw_7_bn (BatchNormaliz  (None, 14, 14, 512)      2048      \n",
            " ation)                                                          \n",
            "                                                                 \n",
            " conv_dw_7_relu (ReLU)       (None, 14, 14, 512)       0         \n",
            "                                                                 \n",
            " conv_pw_7 (Conv2D)          (None, 14, 14, 512)       262144    \n",
            "                                                                 \n",
            " conv_pw_7_bn (BatchNormaliz  (None, 14, 14, 512)      2048      \n",
            " ation)                                                          \n",
            "                                                                 \n",
            " conv_pw_7_relu (ReLU)       (None, 14, 14, 512)       0         \n",
            "                                                                 \n",
            " conv_dw_8 (DepthwiseConv2D)  (None, 14, 14, 512)      4608      \n",
            "                                                                 \n",
            " conv_dw_8_bn (BatchNormaliz  (None, 14, 14, 512)      2048      \n",
            " ation)                                                          \n",
            "                                                                 \n",
            " conv_dw_8_relu (ReLU)       (None, 14, 14, 512)       0         \n",
            "                                                                 \n",
            " conv_pw_8 (Conv2D)          (None, 14, 14, 512)       262144    \n",
            "                                                                 \n",
            " conv_pw_8_bn (BatchNormaliz  (None, 14, 14, 512)      2048      \n",
            " ation)                                                          \n",
            "                                                                 \n",
            " conv_pw_8_relu (ReLU)       (None, 14, 14, 512)       0         \n",
            "                                                                 \n",
            " conv_dw_9 (DepthwiseConv2D)  (None, 14, 14, 512)      4608      \n",
            "                                                                 \n",
            " conv_dw_9_bn (BatchNormaliz  (None, 14, 14, 512)      2048      \n",
            " ation)                                                          \n",
            "                                                                 \n",
            " conv_dw_9_relu (ReLU)       (None, 14, 14, 512)       0         \n",
            "                                                                 \n",
            " conv_pw_9 (Conv2D)          (None, 14, 14, 512)       262144    \n",
            "                                                                 \n",
            " conv_pw_9_bn (BatchNormaliz  (None, 14, 14, 512)      2048      \n",
            " ation)                                                          \n",
            "                                                                 \n",
            " conv_pw_9_relu (ReLU)       (None, 14, 14, 512)       0         \n",
            "                                                                 \n",
            " conv_dw_10 (DepthwiseConv2D  (None, 14, 14, 512)      4608      \n",
            " )                                                               \n",
            "                                                                 \n",
            " conv_dw_10_bn (BatchNormali  (None, 14, 14, 512)      2048      \n",
            " zation)                                                         \n",
            "                                                                 \n",
            " conv_dw_10_relu (ReLU)      (None, 14, 14, 512)       0         \n",
            "                                                                 \n",
            " conv_pw_10 (Conv2D)         (None, 14, 14, 512)       262144    \n",
            "                                                                 \n",
            " conv_pw_10_bn (BatchNormali  (None, 14, 14, 512)      2048      \n",
            " zation)                                                         \n",
            "                                                                 \n",
            " conv_pw_10_relu (ReLU)      (None, 14, 14, 512)       0         \n",
            "                                                                 \n",
            " conv_dw_11 (DepthwiseConv2D  (None, 14, 14, 512)      4608      \n",
            " )                                                               \n",
            "                                                                 \n",
            " conv_dw_11_bn (BatchNormali  (None, 14, 14, 512)      2048      \n",
            " zation)                                                         \n",
            "                                                                 \n",
            " conv_dw_11_relu (ReLU)      (None, 14, 14, 512)       0         \n",
            "                                                                 \n",
            " conv_pw_11 (Conv2D)         (None, 14, 14, 512)       262144    \n",
            "                                                                 \n",
            " conv_pw_11_bn (BatchNormali  (None, 14, 14, 512)      2048      \n",
            " zation)                                                         \n",
            "                                                                 \n",
            " conv_pw_11_relu (ReLU)      (None, 14, 14, 512)       0         \n",
            "                                                                 \n",
            " conv_pad_12 (ZeroPadding2D)  (None, 15, 15, 512)      0         \n",
            "                                                                 \n",
            " conv_dw_12 (DepthwiseConv2D  (None, 7, 7, 512)        4608      \n",
            " )                                                               \n",
            "                                                                 \n",
            " conv_dw_12_bn (BatchNormali  (None, 7, 7, 512)        2048      \n",
            " zation)                                                         \n",
            "                                                                 \n",
            " conv_dw_12_relu (ReLU)      (None, 7, 7, 512)         0         \n",
            "                                                                 \n",
            " conv_pw_12 (Conv2D)         (None, 7, 7, 1024)        524288    \n",
            "                                                                 \n",
            " conv_pw_12_bn (BatchNormali  (None, 7, 7, 1024)       4096      \n",
            " zation)                                                         \n",
            "                                                                 \n",
            " conv_pw_12_relu (ReLU)      (None, 7, 7, 1024)        0         \n",
            "                                                                 \n",
            " conv_dw_13 (DepthwiseConv2D  (None, 7, 7, 1024)       9216      \n",
            " )                                                               \n",
            "                                                                 \n",
            " conv_dw_13_bn (BatchNormali  (None, 7, 7, 1024)       4096      \n",
            " zation)                                                         \n",
            "                                                                 \n",
            " conv_dw_13_relu (ReLU)      (None, 7, 7, 1024)        0         \n",
            "                                                                 \n",
            " conv_pw_13 (Conv2D)         (None, 7, 7, 1024)        1048576   \n",
            "                                                                 \n",
            " conv_pw_13_bn (BatchNormali  (None, 7, 7, 1024)       4096      \n",
            " zation)                                                         \n",
            "                                                                 \n",
            " conv_pw_13_relu (ReLU)      (None, 7, 7, 1024)        0         \n",
            "                                                                 \n",
            " global_average_pooling2d (G  (None, 1, 1, 1024)       0         \n",
            " lobalAveragePooling2D)                                          \n",
            "                                                                 \n",
            " dropout (Dropout)           (None, 1, 1, 1024)        0         \n",
            "                                                                 \n",
            " conv_preds (Conv2D)         (None, 1, 1, 1000)        1025000   \n",
            "                                                                 \n",
            " reshape_2 (Reshape)         (None, 1000)              0         \n",
            "                                                                 \n",
            " dense (Dense)               (None, 2)                 2002      \n",
            "                                                                 \n",
            "=================================================================\n",
            "Total params: 4,255,866\n",
            "Trainable params: 2,002\n",
            "Non-trainable params: 4,253,864\n",
            "_________________________________________________________________\n"
          ]
        }
      ]
    },
    {
      "cell_type": "code",
      "source": [
        "model.compile(loss='categorical_crossentropy', optimizer='adam' ,  metrics=['accuracy'])\n",
        "\n",
        "model.fit(train_batches , validation_data=valid_batches ,steps_per_epoch=128 , validation_steps=10 , epochs=7 , verbose=2)\n",
        "\n",
        "test_labels=test_batches.classes\n",
        "predictions=model.predict(x=test_batches ,steps=len(test_batches),verbose=0)"
      ],
      "metadata": {
        "id": "gEkd6O-96FZV"
      },
      "execution_count": null,
      "outputs": []
    },
    {
      "cell_type": "code",
      "source": [
        "from sklearn.metrics import confusion_matrix\n",
        "cm=confusion_matrix(y_true=test_labels, y_pred=predictions.argmax(1))\n",
        "cm"
      ],
      "metadata": {
        "id": "71uGviPR6Tgz"
      },
      "execution_count": null,
      "outputs": []
    },
    {
      "cell_type": "code",
      "source": [
        "true_positives=95\n",
        "false_positives=25\n",
        "false_negatives=26"
      ],
      "metadata": {
        "id": "pc9MuupV7DzL"
      },
      "execution_count": null,
      "outputs": []
    },
    {
      "cell_type": "markdown",
      "source": [
        "# Precision and recall"
      ],
      "metadata": {
        "id": "OeRN3jPPCh8j"
      }
    },
    {
      "cell_type": "code",
      "source": [
        "precicion=true_positives/(true_positives+false_positives)\n",
        "print('percicion : %.3f ' % precicion)\n",
        "\n",
        "recall=true_positives/(true_positives+false_negatives)\n",
        "print('recall : %.3f ' % recall)"
      ],
      "metadata": {
        "id": "lwrIiXvt7GPs"
      },
      "execution_count": null,
      "outputs": []
    },
    {
      "cell_type": "code",
      "source": [
        "from sklearn.metrics import accuracy_score\n",
        "acc=accuracy_score(y_true=test_labels, y_pred=predictions.argmax(axis=1))\n",
        "print('Accuracy : %.3f ' % acc)"
      ],
      "metadata": {
        "id": "xuYeEzqR7PCI"
      },
      "execution_count": null,
      "outputs": []
    },
    {
      "cell_type": "markdown",
      "source": [
        "\n",
        "Summary of total calculations we get from mobileNet model \n",
        "*   Accuracy =  0.791\n",
        "*   val_loss =  0.8701\n",
        "*   val_accuracy = 0.7900\n",
        "*   percicion = 0.792 \n",
        "*   recall : 0.785 \n",
        "*   confusion matrix = array([[95, 26],\n",
        "       [25, 98]])\n",
        "\n",
        "\n",
        "\n",
        "\n",
        "\n",
        "\n",
        "\n",
        "\n",
        "\n"
      ],
      "metadata": {
        "id": "MY7ziP_t9W3W"
      }
    },
    {
      "cell_type": "markdown",
      "source": [
        "# Train the model using VGG16 "
      ],
      "metadata": {
        "id": "TqR6D8OB-oMG"
      }
    },
    {
      "cell_type": "code",
      "source": [
        "imgs,labels =next(train_batches)"
      ],
      "metadata": {
        "id": "3cE6KIwW_CwP"
      },
      "execution_count": null,
      "outputs": []
    },
    {
      "cell_type": "code",
      "source": [
        "vgg16_model = tf.keras.applications.vgg16.VGG16()"
      ],
      "metadata": {
        "colab": {
          "base_uri": "https://localhost:8080/"
        },
        "id": "v_yQxtGD_HoH",
        "outputId": "236c3b13-ab90-4bab-d6a8-31696070b0b0"
      },
      "execution_count": null,
      "outputs": [
        {
          "output_type": "stream",
          "name": "stdout",
          "text": [
            "Downloading data from https://storage.googleapis.com/tensorflow/keras-applications/vgg16/vgg16_weights_tf_dim_ordering_tf_kernels.h5\n",
            "553467904/553467096 [==============================] - 5s 0us/step\n",
            "553476096/553467096 [==============================] - 5s 0us/step\n"
          ]
        }
      ]
    },
    {
      "cell_type": "code",
      "source": [
        "vgg16_model.summary()"
      ],
      "metadata": {
        "colab": {
          "base_uri": "https://localhost:8080/"
        },
        "id": "dg4C1DXI_J2d",
        "outputId": "06ad91a0-5beb-4282-e571-fbdcfd977534"
      },
      "execution_count": null,
      "outputs": [
        {
          "output_type": "stream",
          "name": "stdout",
          "text": [
            "Model: \"vgg16\"\n",
            "_________________________________________________________________\n",
            " Layer (type)                Output Shape              Param #   \n",
            "=================================================================\n",
            " input_2 (InputLayer)        [(None, 224, 224, 3)]     0         \n",
            "                                                                 \n",
            " block1_conv1 (Conv2D)       (None, 224, 224, 64)      1792      \n",
            "                                                                 \n",
            " block1_conv2 (Conv2D)       (None, 224, 224, 64)      36928     \n",
            "                                                                 \n",
            " block1_pool (MaxPooling2D)  (None, 112, 112, 64)      0         \n",
            "                                                                 \n",
            " block2_conv1 (Conv2D)       (None, 112, 112, 128)     73856     \n",
            "                                                                 \n",
            " block2_conv2 (Conv2D)       (None, 112, 112, 128)     147584    \n",
            "                                                                 \n",
            " block2_pool (MaxPooling2D)  (None, 56, 56, 128)       0         \n",
            "                                                                 \n",
            " block3_conv1 (Conv2D)       (None, 56, 56, 256)       295168    \n",
            "                                                                 \n",
            " block3_conv2 (Conv2D)       (None, 56, 56, 256)       590080    \n",
            "                                                                 \n",
            " block3_conv3 (Conv2D)       (None, 56, 56, 256)       590080    \n",
            "                                                                 \n",
            " block3_pool (MaxPooling2D)  (None, 28, 28, 256)       0         \n",
            "                                                                 \n",
            " block4_conv1 (Conv2D)       (None, 28, 28, 512)       1180160   \n",
            "                                                                 \n",
            " block4_conv2 (Conv2D)       (None, 28, 28, 512)       2359808   \n",
            "                                                                 \n",
            " block4_conv3 (Conv2D)       (None, 28, 28, 512)       2359808   \n",
            "                                                                 \n",
            " block4_pool (MaxPooling2D)  (None, 14, 14, 512)       0         \n",
            "                                                                 \n",
            " block5_conv1 (Conv2D)       (None, 14, 14, 512)       2359808   \n",
            "                                                                 \n",
            " block5_conv2 (Conv2D)       (None, 14, 14, 512)       2359808   \n",
            "                                                                 \n",
            " block5_conv3 (Conv2D)       (None, 14, 14, 512)       2359808   \n",
            "                                                                 \n",
            " block5_pool (MaxPooling2D)  (None, 7, 7, 512)         0         \n",
            "                                                                 \n",
            " flatten (Flatten)           (None, 25088)             0         \n",
            "                                                                 \n",
            " fc1 (Dense)                 (None, 4096)              102764544 \n",
            "                                                                 \n",
            " fc2 (Dense)                 (None, 4096)              16781312  \n",
            "                                                                 \n",
            " predictions (Dense)         (None, 1000)              4097000   \n",
            "                                                                 \n",
            "=================================================================\n",
            "Total params: 138,357,544\n",
            "Trainable params: 138,357,544\n",
            "Non-trainable params: 0\n",
            "_________________________________________________________________\n"
          ]
        }
      ]
    },
    {
      "cell_type": "code",
      "source": [
        "model = keras.Sequential()\n",
        "for layer in vgg16_model.layers[:-1]:\n",
        "    model.add(layer)"
      ],
      "metadata": {
        "id": "3y3uP9YQ_TQj"
      },
      "execution_count": null,
      "outputs": []
    },
    {
      "cell_type": "code",
      "source": [
        "for layer in model.layers:\n",
        "    layer.trainable = False"
      ],
      "metadata": {
        "id": "yA7I2PZm_UNW"
      },
      "execution_count": null,
      "outputs": []
    },
    {
      "cell_type": "code",
      "source": [
        "model.add(keras.layers.Dense(units=2, activation='softmax'))"
      ],
      "metadata": {
        "id": "tUOdO_tY_YNA"
      },
      "execution_count": null,
      "outputs": []
    },
    {
      "cell_type": "code",
      "source": [
        "model.summary()"
      ],
      "metadata": {
        "colab": {
          "base_uri": "https://localhost:8080/"
        },
        "id": "JiGbeN-E_aUZ",
        "outputId": "68860d32-89ff-47ce-efa5-404097f68090"
      },
      "execution_count": null,
      "outputs": [
        {
          "output_type": "stream",
          "name": "stdout",
          "text": [
            "Model: \"sequential_1\"\n",
            "_________________________________________________________________\n",
            " Layer (type)                Output Shape              Param #   \n",
            "=================================================================\n",
            " block1_conv1 (Conv2D)       (None, 224, 224, 64)      1792      \n",
            "                                                                 \n",
            " block1_conv2 (Conv2D)       (None, 224, 224, 64)      36928     \n",
            "                                                                 \n",
            " block1_pool (MaxPooling2D)  (None, 112, 112, 64)      0         \n",
            "                                                                 \n",
            " block2_conv1 (Conv2D)       (None, 112, 112, 128)     73856     \n",
            "                                                                 \n",
            " block2_conv2 (Conv2D)       (None, 112, 112, 128)     147584    \n",
            "                                                                 \n",
            " block2_pool (MaxPooling2D)  (None, 56, 56, 128)       0         \n",
            "                                                                 \n",
            " block3_conv1 (Conv2D)       (None, 56, 56, 256)       295168    \n",
            "                                                                 \n",
            " block3_conv2 (Conv2D)       (None, 56, 56, 256)       590080    \n",
            "                                                                 \n",
            " block3_conv3 (Conv2D)       (None, 56, 56, 256)       590080    \n",
            "                                                                 \n",
            " block3_pool (MaxPooling2D)  (None, 28, 28, 256)       0         \n",
            "                                                                 \n",
            " block4_conv1 (Conv2D)       (None, 28, 28, 512)       1180160   \n",
            "                                                                 \n",
            " block4_conv2 (Conv2D)       (None, 28, 28, 512)       2359808   \n",
            "                                                                 \n",
            " block4_conv3 (Conv2D)       (None, 28, 28, 512)       2359808   \n",
            "                                                                 \n",
            " block4_pool (MaxPooling2D)  (None, 14, 14, 512)       0         \n",
            "                                                                 \n",
            " block5_conv1 (Conv2D)       (None, 14, 14, 512)       2359808   \n",
            "                                                                 \n",
            " block5_conv2 (Conv2D)       (None, 14, 14, 512)       2359808   \n",
            "                                                                 \n",
            " block5_conv3 (Conv2D)       (None, 14, 14, 512)       2359808   \n",
            "                                                                 \n",
            " block5_pool (MaxPooling2D)  (None, 7, 7, 512)         0         \n",
            "                                                                 \n",
            " flatten (Flatten)           (None, 25088)             0         \n",
            "                                                                 \n",
            " fc1 (Dense)                 (None, 4096)              102764544 \n",
            "                                                                 \n",
            " fc2 (Dense)                 (None, 4096)              16781312  \n",
            "                                                                 \n",
            " dense_1 (Dense)             (None, 2)                 8194      \n",
            "                                                                 \n",
            "=================================================================\n",
            "Total params: 134,268,738\n",
            "Trainable params: 8,194\n",
            "Non-trainable params: 134,260,544\n",
            "_________________________________________________________________\n"
          ]
        }
      ]
    },
    {
      "cell_type": "code",
      "source": [
        "model.compile(loss='categorical_crossentropy', optimizer='adam' ,  metrics=['accuracy'])\n",
        "model.fit(train_batches , validation_data=valid_batches ,steps_per_epoch=128 , validation_steps=10 , epochs=10 , verbose=2)\n",
        "\n",
        "test_labels=test_batches.classes\n",
        "predictions=model.predict(x=test_batches ,steps=len(test_batches),verbose=0)"
      ],
      "metadata": {
        "id": "JzL9uDqP_cAq"
      },
      "execution_count": null,
      "outputs": []
    },
    {
      "cell_type": "code",
      "source": [
        "from sklearn.metrics import confusion_matrix\n",
        "cm=confusion_matrix(y_true=test_labels, y_pred=predictions.argmax(1))\n",
        "cm"
      ],
      "metadata": {
        "id": "JVrXOzyQ_pOM"
      },
      "execution_count": null,
      "outputs": []
    },
    {
      "cell_type": "code",
      "source": [
        "true_positives=75\n",
        "false_positives=2\n",
        "false_negatives=46"
      ],
      "metadata": {
        "id": "uFnLhiAzVBl3"
      },
      "execution_count": null,
      "outputs": []
    },
    {
      "cell_type": "markdown",
      "source": [
        "# percision and recall "
      ],
      "metadata": {
        "id": "gs50CbrXAI1i"
      }
    },
    {
      "cell_type": "code",
      "source": [
        "precicion=true_positives/(true_positives+false_positives)\n",
        "print('percicion : %.3f ' % precicion)"
      ],
      "metadata": {
        "id": "3QuHO1IqACcq"
      },
      "execution_count": null,
      "outputs": []
    },
    {
      "cell_type": "code",
      "source": [
        "recall=true_positives/(true_positives+false_negatives)\n",
        "print('recall : %.3f ' % recall)"
      ],
      "metadata": {
        "id": "fHxgUELSADw7"
      },
      "execution_count": null,
      "outputs": []
    },
    {
      "cell_type": "code",
      "source": [
        "from sklearn.metrics import accuracy_score\n",
        "acc=accuracy_score(y_true=test_labels, y_pred=predictions.argmax(axis=1))\n",
        "print('Accuracy : %.3f ' % acc)"
      ],
      "metadata": {
        "id": "G7acn-pvAOhk"
      },
      "execution_count": null,
      "outputs": []
    },
    {
      "cell_type": "markdown",
      "source": [
        "\n",
        "# New Section\n",
        "\n",
        "Summary of total calculations we get from VGG16 model \n",
        "*   Accuracy =  0.803           \n",
        "*   val_loss =  0.2762 \n",
        "*   val_accuracy = 0.9000 \n",
        "*   percicion = 0.974            \n",
        "*   recall : 0.620              \n",
        "*   confusion matrix = array([[ 75,  46],\n",
        "       [  2, 121]])\n",
        "\n",
        "we Notive here that the accuracy of this model is better than what we got from MobileNet"
      ],
      "metadata": {
        "id": "b7-xmp-SAWwB"
      }
    }
  ]
}